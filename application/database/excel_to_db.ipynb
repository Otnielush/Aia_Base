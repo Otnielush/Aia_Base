{
 "cells": [
  {
   "cell_type": "code",
   "execution_count": 1,
   "id": "organized-outside",
   "metadata": {},
   "outputs": [],
   "source": [
    "import sqlite3 as sql\n",
    "import numpy as np\n",
    "import datetime\n",
    "import pandas as pd"
   ]
  },
  {
   "cell_type": "code",
   "execution_count": 2,
   "id": "certified-nevada",
   "metadata": {},
   "outputs": [],
   "source": [
    "from database.params import cols_w, insert_to_db"
   ]
  },
  {
   "cell_type": "code",
   "execution_count": 2,
   "id": "analyzed-scanner",
   "metadata": {},
   "outputs": [],
   "source": [
    "con = sql.connect(\"database/database.db\")\n",
    "con.row_factory = sql.Row\n",
    "cur = con.cursor()\n",
    "cur.execute(\"SELECT * FROM workers\")\n",
    "data = cur.fetchall()\n",
    "# if len(data) > 0:\n",
    "#     data[-1]['date_create'] = datetime.datetime.fromtimestamp(data['date_create']).strftime(\"%d-%m-%Y, %H:%M\")\n",
    "#     data[-1]['date_update'] = datetime.datetime.fromtimestamp(data['date_update']).strftime(\"%d-%m-%Y, %H:%M\")\n",
    "#     data[-1]['date_born'] = datetime.datetime.fromtimestamp(data['date_born']).strftime(\"%d-%m-%Y\")\n",
    "con.close()"
   ]
  },
  {
   "cell_type": "code",
   "execution_count": 15,
   "id": "compatible-princess",
   "metadata": {},
   "outputs": [],
   "source": [
    "cols = ['1','2','3']"
   ]
  },
  {
   "cell_type": "code",
   "execution_count": 11,
   "id": "subject-stations",
   "metadata": {},
   "outputs": [],
   "source": [
    "data2 = [{'2':2,'1':1,'3':3},\n",
    "        {'1':1,'3':3,'4':4}]"
   ]
  },
  {
   "cell_type": "code",
   "execution_count": 3,
   "id": "dangerous-volunteer",
   "metadata": {},
   "outputs": [],
   "source": [
    "data2 = [['tete']]"
   ]
  },
  {
   "cell_type": "code",
   "execution_count": 3,
   "id": "connected-editing",
   "metadata": {},
   "outputs": [],
   "source": [
    "data2 = pd.read_excel('./database/workers.xlsx')"
   ]
  },
  {
   "cell_type": "code",
   "execution_count": 4,
   "id": "informal-semester",
   "metadata": {},
   "outputs": [],
   "source": [
    "data2.columns = ['name', 'phone', 'age', 'city','teudat_zeut','status', 'look_for']"
   ]
  },
  {
   "cell_type": "code",
   "execution_count": 5,
   "id": "alien-clock",
   "metadata": {},
   "outputs": [],
   "source": [
    "name = []\n",
    "last = []\n",
    "for dd in data2['name']:\n",
    "    if len(dd.split(' ')) > 1:\n",
    "        nn = dd.split(' ')\n",
    "        name.append(nn[0])\n",
    "        last.append(nn[1])\n",
    "    else:\n",
    "        name.append(dd)\n",
    "        last.append('')\n",
    "data2['name'] = name\n",
    "data2['lastname'] = last"
   ]
  },
  {
   "cell_type": "code",
   "execution_count": 6,
   "id": "twelve-peninsula",
   "metadata": {},
   "outputs": [
    {
     "data": {
      "text/plain": [
       "304"
      ]
     },
     "execution_count": 6,
     "metadata": {},
     "output_type": "execute_result"
    }
   ],
   "source": [
    "len(last)"
   ]
  },
  {
   "cell_type": "code",
   "execution_count": 7,
   "id": "silent-pleasure",
   "metadata": {},
   "outputs": [],
   "source": [
    "data3 = data2.to_dict()"
   ]
  },
  {
   "cell_type": "code",
   "execution_count": 8,
   "id": "cardiac-development",
   "metadata": {},
   "outputs": [
    {
     "data": {
      "text/plain": [
       "['name',\n",
       " 'phone',\n",
       " 'age',\n",
       " 'city',\n",
       " 'teudat_zeut',\n",
       " 'status',\n",
       " 'look_for',\n",
       " 'lastname']"
      ]
     },
     "execution_count": 8,
     "metadata": {},
     "output_type": "execute_result"
    }
   ],
   "source": [
    "keys = list(data3.keys())\n",
    "keys"
   ]
  },
  {
   "cell_type": "code",
   "execution_count": 9,
   "id": "defensive-reset",
   "metadata": {},
   "outputs": [],
   "source": [
    "data = []\n",
    "for i in range(data2.shape[0]):\n",
    "    ttt = {}\n",
    "    for k in keys:\n",
    "        ttt[k] = data3[k][i]\n",
    "    data.append(ttt)"
   ]
  },
  {
   "cell_type": "code",
   "execution_count": 10,
   "id": "coordinate-cause",
   "metadata": {},
   "outputs": [
    {
     "data": {
      "text/plain": [
       "304"
      ]
     },
     "execution_count": 10,
     "metadata": {},
     "output_type": "execute_result"
    }
   ],
   "source": [
    "len(data)"
   ]
  },
  {
   "cell_type": "code",
   "execution_count": 11,
   "id": "veterinary-affair",
   "metadata": {},
   "outputs": [
    {
     "data": {
      "text/plain": [
       "'Информация добавлена'"
      ]
     },
     "execution_count": 11,
     "metadata": {},
     "output_type": "execute_result"
    }
   ],
   "source": [
    "insert_to_db('workers', cols_w, data)"
   ]
  }
 ],
 "metadata": {
  "kernelspec": {
   "display_name": "Python 3",
   "language": "python",
   "name": "python3"
  },
  "language_info": {
   "codemirror_mode": {
    "name": "ipython",
    "version": 3
   },
   "file_extension": ".py",
   "mimetype": "text/x-python",
   "name": "python",
   "nbconvert_exporter": "python",
   "pygments_lexer": "ipython3",
   "version": "3.8.8"
  }
 },
 "nbformat": 4,
 "nbformat_minor": 5
}
